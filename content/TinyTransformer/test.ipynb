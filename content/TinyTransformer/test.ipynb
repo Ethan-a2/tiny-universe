{
 "cells": [
  {
   "cell_type": "code",
   "execution_count": 1,
   "metadata": {},
   "outputs": [],
   "source": [
    "# 创建模型配置文件\n",
    "from dataclasses import dataclass\n",
    "\n",
    "@dataclass\n",
    "class TransformerConfig:\n",
    "    block_size: int = 1024\n",
    "    vocab_size: int = 50304 \n",
    "    n_layer: int = 4\n",
    "    n_head: int = 4\n",
    "    n_embd: int = 768\n",
    "    dropout: float = 0.0\n",
    "    bias: bool = True \n",
    "\n",
    "model_config = TransformerConfig(vocab_size=10, block_size=12, n_layer=2, n_head=4, n_embd=16, dropout=0.0, bias=True)\n"
   ]
  },
  {
   "cell_type": "code",
   "execution_count": 2,
   "metadata": {},
   "outputs": [
    {
     "name": "stdout",
     "output_type": "stream",
     "text": [
      "WARNING: using slow attention. Flash Attention requires PyTorch >= 2.0\n",
      "WARNING: using slow attention. Flash Attention requires PyTorch >= 2.0\n",
      "WARNING: using slow attention. Flash Attention requires PyTorch >= 2.0\n",
      "WARNING: using slow attention. Flash Attention requires PyTorch >= 2.0\n",
      "WARNING: using slow attention. Flash Attention requires PyTorch >= 2.0\n",
      "WARNING: using slow attention. Flash Attention requires PyTorch >= 2.0\n",
      "number of parameters: 0.02M\n"
     ]
    }
   ],
   "source": [
    "# 创建模型\n",
    "\n",
    "from tiny_transformer import Transformer\n",
    "\n",
    "model = Transformer(model_config)"
   ]
  },
  {
   "cell_type": "code",
   "execution_count": 3,
   "metadata": {},
   "outputs": [
    {
     "name": "stdout",
     "output_type": "stream",
     "text": [
      "idx torch.Size([4, 8])\n",
      "tok_emb torch.Size([4, 8, 16])\n",
      "x after wpe: torch.Size([4, 8, 16])\n",
      "enc_out: torch.Size([4, 8, 16])\n",
      "x after decoder: torch.Size([4, 8, 16])\n",
      "logits torch.Size([4, 1, 10])\n"
     ]
    }
   ],
   "source": [
    "# 前向传递\n",
    "\n",
    "import torch\n",
    "\n",
    "idx = torch.randint(1, 10, (4, 8))\n",
    "logits, _ = model(idx)\n",
    "print(\"logits\",logits.size())"
   ]
  },
  {
   "cell_type": "code",
   "execution_count": 4,
   "metadata": {},
   "outputs": [
    {
     "name": "stdout",
     "output_type": "stream",
     "text": [
      "idx torch.Size([4, 8])\n",
      "tok_emb torch.Size([4, 8, 16])\n",
      "x after wpe: torch.Size([4, 8, 16])\n",
      "enc_out: torch.Size([4, 8, 16])\n",
      "x after decoder: torch.Size([4, 8, 16])\n",
      "idx torch.Size([4, 9])\n",
      "tok_emb torch.Size([4, 9, 16])\n",
      "x after wpe: torch.Size([4, 9, 16])\n",
      "enc_out: torch.Size([4, 9, 16])\n",
      "x after decoder: torch.Size([4, 9, 16])\n",
      "idx torch.Size([4, 10])\n",
      "tok_emb torch.Size([4, 10, 16])\n",
      "x after wpe: torch.Size([4, 10, 16])\n",
      "enc_out: torch.Size([4, 10, 16])\n",
      "x after decoder: torch.Size([4, 10, 16])\n",
      "generate result torch.Size([4, 11])\n"
     ]
    }
   ],
   "source": [
    "# 推理\n",
    "result = model.generate(idx, 3)\n",
    "print(\"generate result\",result.size())"
   ]
  },
  {
   "cell_type": "code",
   "execution_count": 5,
   "metadata": {},
   "outputs": [
    {
     "data": {
      "text/plain": [
       "tensor([[6, 3, 9, 6, 2, 2, 3, 6, 2, 2, 6],\n",
       "        [9, 6, 7, 5, 8, 3, 1, 9, 3, 5, 4],\n",
       "        [2, 7, 2, 9, 2, 4, 5, 4, 1, 3, 1],\n",
       "        [3, 9, 7, 8, 1, 7, 8, 1, 3, 4, 7]])"
      ]
     },
     "execution_count": 5,
     "metadata": {},
     "output_type": "execute_result"
    }
   ],
   "source": [
    "# 生成结果\n",
    "result"
   ]
  },
  {
   "cell_type": "code",
   "execution_count": 6,
   "metadata": {},
   "outputs": [
    {
     "name": "stderr",
     "output_type": "stream",
     "text": [
      "/mnt/d/media/code/tools/tiny-universe/content/TinyTransformer/tiny_transformer.py:285: TracerWarning: Converting a tensor to a Python boolean might cause the trace to be incorrect. We can't record the data flow of Python values, so this value will be treated as a constant in the future. This means that the trace might not generalize to other inputs!\n",
      "  assert t <= self.config.block_size, f\"不能计算该序列，该序列长度为 {t}, 最大序列长度只有 {self.config.block_size}\"\n",
      "/mnt/d/media/code/tools/tiny-universe/content/TinyTransformer/tiny_transformer.py:68: UserWarning: __floordiv__ is deprecated, and its behavior will change in a future version of pytorch. It currently rounds toward 0 (like the 'trunc' function NOT 'floor'). This results in incorrect rounding for negative values. To keep the current behavior, use torch.div(a, b, rounding_mode='trunc'), or for actual floor division, use torch.div(a, b, rounding_mode='floor').\n",
      "  k = k.view(B, T, self.n_head, C // self.n_head).transpose(1, 2)\n",
      "/mnt/d/media/code/tools/tiny-universe/content/TinyTransformer/tiny_transformer.py:69: UserWarning: __floordiv__ is deprecated, and its behavior will change in a future version of pytorch. It currently rounds toward 0 (like the 'trunc' function NOT 'floor'). This results in incorrect rounding for negative values. To keep the current behavior, use torch.div(a, b, rounding_mode='trunc'), or for actual floor division, use torch.div(a, b, rounding_mode='floor').\n",
      "  q = q.view(B, T, self.n_head, C // self.n_head).transpose(1, 2)\n",
      "/mnt/d/media/code/tools/tiny-universe/content/TinyTransformer/tiny_transformer.py:70: UserWarning: __floordiv__ is deprecated, and its behavior will change in a future version of pytorch. It currently rounds toward 0 (like the 'trunc' function NOT 'floor'). This results in incorrect rounding for negative values. To keep the current behavior, use torch.div(a, b, rounding_mode='trunc'), or for actual floor division, use torch.div(a, b, rounding_mode='floor').\n",
      "  v = v.view(B, T, self.n_head, C // self.n_head).transpose(1, 2)\n",
      "/mnt/d/media/code/tools/tiny-universe/content/TinyTransformer/tiny_transformer.py:79: TracerWarning: Converting a tensor to a Python float might cause the trace to be incorrect. We can't record the data flow of Python values, so this value will be treated as a constant in the future. This means that the trace might not generalize to other inputs!\n",
      "  att = (q @ k.transpose(-2, -1)) * (1.0 / math.sqrt(k.size(-1)))\n"
     ]
    },
    {
     "name": "stdout",
     "output_type": "stream",
     "text": [
      "idx torch.Size([1, 12])\n",
      "tok_emb torch.Size([1, 12, 16])\n",
      "x after wpe: torch.Size([1, 12, 16])\n",
      "enc_out: torch.Size([1, 12, 16])\n",
      "x after decoder: torch.Size([1, 12, 16])\n",
      "模型已导出到：transformer.onnx\n"
     ]
    }
   ],
   "source": [
    "# 导出模型到 ONNX 格式\n",
    "import torch.onnx\n",
    "\n",
    "model.eval()  # 设置为评估模式，禁用 dropout 等层\n",
    "\n",
    "# 创建一个 dummy input 用于 tracing\n",
    "dummy_input = torch.randint(1, 10, (1, model_config.block_size), dtype=torch.long)  # 调整batchsize为1，block_size\n",
    "\n",
    "# 定义 ONNX 文件名\n",
    "onnx_file_path = \"transformer.onnx\"\n",
    "\n",
    "# 导出 ONNX 模型\n",
    "torch.onnx.export(\n",
    "    model,  # 要导出的模型\n",
    "    dummy_input,  # 模型的输入\n",
    "    onnx_file_path,  # ONNX 文件的保存路径\n",
    "    export_params=True,  # 导出模型参数\n",
    "    opset_version=13,  # ONNX 算子集版本，根据你的环境选择合适的版本\n",
    "    do_constant_folding=True,  # 是否执行常量折叠优化\n",
    "    input_names=['input'],  # 输入节点的名称\n",
    "    output_names=['output'],  # 输出节点的名称\n",
    "    dynamic_axes={'input': {1: 'sequence'}, 'output': {1: 'sequence'}}  # 定义动态轴，sequence表示长度可变\n",
    ")\n",
    "\n",
    "print(f\"模型已导出到：{onnx_file_path}\")"
   ]
  },
  {
   "cell_type": "code",
   "execution_count": null,
   "metadata": {},
   "outputs": [],
   "source": []
  }
 ],
 "metadata": {
  "kernelspec": {
   "display_name": "Python 3",
   "language": "python",
   "name": "python3"
  },
  "language_info": {
   "codemirror_mode": {
    "name": "ipython",
    "version": 3
   },
   "file_extension": ".py",
   "mimetype": "text/x-python",
   "name": "python",
   "nbconvert_exporter": "python",
   "pygments_lexer": "ipython3",
   "version": "3.10.0"
  }
 },
 "nbformat": 4,
 "nbformat_minor": 2
}
